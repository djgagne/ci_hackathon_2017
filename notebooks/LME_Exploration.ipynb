{
 "cells": [
  {
   "cell_type": "code",
   "execution_count": 1,
   "metadata": {
    "collapsed": true
   },
   "outputs": [],
   "source": [
    "%matplotlib inline\n",
    "import numpy as np\n",
    "import pandas as pd\n",
    "from netCDF4 import Dataset \n",
    "import matplotlib.pyplot as plt\n",
    "from glob import glob\n",
    "import os\n",
    "import xarray as xr\n",
    "from os.path import exists, join"
   ]
  },
  {
   "cell_type": "code",
   "execution_count": 2,
   "metadata": {
    "collapsed": true
   },
   "outputs": [],
   "source": [
    "dam_coords = (39.538889, -121.485556)"
   ]
  },
  {
   "cell_type": "code",
   "execution_count": 3,
   "metadata": {},
   "outputs": [
    {
     "data": {
      "text/plain": [
       "['/glade/p/cesm0005/CESM-CAM5-LME/atm/proc/tseries/monthly/ABSORB',\n",
       " '/glade/p/cesm0005/CESM-CAM5-LME/atm/proc/tseries/monthly/AEROD_v',\n",
       " '/glade/p/cesm0005/CESM-CAM5-LME/atm/proc/tseries/monthly/ALBTOA',\n",
       " '/glade/p/cesm0005/CESM-CAM5-LME/atm/proc/tseries/monthly/ALBTOA..',\n",
       " '/glade/p/cesm0005/CESM-CAM5-LME/atm/proc/tseries/monthly/ALBTOAC',\n",
       " '/glade/p/cesm0005/CESM-CAM5-LME/atm/proc/tseries/monthly/ALBTOM',\n",
       " '/glade/p/cesm0005/CESM-CAM5-LME/atm/proc/tseries/monthly/ANRAIN',\n",
       " '/glade/p/cesm0005/CESM-CAM5-LME/atm/proc/tseries/monthly/ANSNOW',\n",
       " '/glade/p/cesm0005/CESM-CAM5-LME/atm/proc/tseries/monthly/AOA1',\n",
       " '/glade/p/cesm0005/CESM-CAM5-LME/atm/proc/tseries/monthly/AOA1SRC',\n",
       " '/glade/p/cesm0005/CESM-CAM5-LME/atm/proc/tseries/monthly/AOA2',\n",
       " '/glade/p/cesm0005/CESM-CAM5-LME/atm/proc/tseries/monthly/AOA2SRC',\n",
       " '/glade/p/cesm0005/CESM-CAM5-LME/atm/proc/tseries/monthly/AODABS',\n",
       " '/glade/p/cesm0005/CESM-CAM5-LME/atm/proc/tseries/monthly/AODDUST1',\n",
       " '/glade/p/cesm0005/CESM-CAM5-LME/atm/proc/tseries/monthly/AODDUST2',\n",
       " '/glade/p/cesm0005/CESM-CAM5-LME/atm/proc/tseries/monthly/AODDUST3',\n",
       " '/glade/p/cesm0005/CESM-CAM5-LME/atm/proc/tseries/monthly/AODVIS',\n",
       " '/glade/p/cesm0005/CESM-CAM5-LME/atm/proc/tseries/monthly/AQRAIN',\n",
       " '/glade/p/cesm0005/CESM-CAM5-LME/atm/proc/tseries/monthly/AQSNOW',\n",
       " '/glade/p/cesm0005/CESM-CAM5-LME/atm/proc/tseries/monthly/AREI',\n",
       " '/glade/p/cesm0005/CESM-CAM5-LME/atm/proc/tseries/monthly/AREL',\n",
       " '/glade/p/cesm0005/CESM-CAM5-LME/atm/proc/tseries/monthly/AWNC',\n",
       " '/glade/p/cesm0005/CESM-CAM5-LME/atm/proc/tseries/monthly/AWNI',\n",
       " '/glade/p/cesm0005/CESM-CAM5-LME/atm/proc/tseries/monthly/BR',\n",
       " '/glade/p/cesm0005/CESM-CAM5-LME/atm/proc/tseries/monthly/BRCL',\n",
       " '/glade/p/cesm0005/CESM-CAM5-LME/atm/proc/tseries/monthly/BRCL_SRF',\n",
       " '/glade/p/cesm0005/CESM-CAM5-LME/atm/proc/tseries/monthly/BRO',\n",
       " '/glade/p/cesm0005/CESM-CAM5-LME/atm/proc/tseries/monthly/BRONO2',\n",
       " '/glade/p/cesm0005/CESM-CAM5-LME/atm/proc/tseries/monthly/BRONO2_SRF',\n",
       " '/glade/p/cesm0005/CESM-CAM5-LME/atm/proc/tseries/monthly/BROX',\n",
       " '/glade/p/cesm0005/CESM-CAM5-LME/atm/proc/tseries/monthly/BROY',\n",
       " '/glade/p/cesm0005/CESM-CAM5-LME/atm/proc/tseries/monthly/BRO_SRF',\n",
       " '/glade/p/cesm0005/CESM-CAM5-LME/atm/proc/tseries/monthly/BR_SRF',\n",
       " '/glade/p/cesm0005/CESM-CAM5-LME/atm/proc/tseries/monthly/BTAUE',\n",
       " '/glade/p/cesm0005/CESM-CAM5-LME/atm/proc/tseries/monthly/BTAUN',\n",
       " '/glade/p/cesm0005/CESM-CAM5-LME/atm/proc/tseries/monthly/BTAUS',\n",
       " '/glade/p/cesm0005/CESM-CAM5-LME/atm/proc/tseries/monthly/BTAUW',\n",
       " '/glade/p/cesm0005/CESM-CAM5-LME/atm/proc/tseries/monthly/BURDEN1',\n",
       " '/glade/p/cesm0005/CESM-CAM5-LME/atm/proc/tseries/monthly/BURDEN2',\n",
       " '/glade/p/cesm0005/CESM-CAM5-LME/atm/proc/tseries/monthly/BURDEN3',\n",
       " '/glade/p/cesm0005/CESM-CAM5-LME/atm/proc/tseries/monthly/BURDENBC',\n",
       " '/glade/p/cesm0005/CESM-CAM5-LME/atm/proc/tseries/monthly/BURDENDUST',\n",
       " '/glade/p/cesm0005/CESM-CAM5-LME/atm/proc/tseries/monthly/BURDENPOM',\n",
       " '/glade/p/cesm0005/CESM-CAM5-LME/atm/proc/tseries/monthly/BURDENSEASALT',\n",
       " '/glade/p/cesm0005/CESM-CAM5-LME/atm/proc/tseries/monthly/BURDENSO4',\n",
       " '/glade/p/cesm0005/CESM-CAM5-LME/atm/proc/tseries/monthly/BURDENSOA',\n",
       " '/glade/p/cesm0005/CESM-CAM5-LME/atm/proc/tseries/monthly/BUTEND1',\n",
       " '/glade/p/cesm0005/CESM-CAM5-LME/atm/proc/tseries/monthly/BUTEND2',\n",
       " '/glade/p/cesm0005/CESM-CAM5-LME/atm/proc/tseries/monthly/BUTEND3',\n",
       " '/glade/p/cesm0005/CESM-CAM5-LME/atm/proc/tseries/monthly/BUTEND4',\n",
       " '/glade/p/cesm0005/CESM-CAM5-LME/atm/proc/tseries/monthly/BUTEND5',\n",
       " '/glade/p/cesm0005/CESM-CAM5-LME/atm/proc/tseries/monthly/BUTGWSPEC',\n",
       " '/glade/p/cesm0005/CESM-CAM5-LME/atm/proc/tseries/monthly/BVTGWSPEC',\n",
       " '/glade/p/cesm0005/CESM-CAM5-LME/atm/proc/tseries/monthly/CCL4',\n",
       " '/glade/p/cesm0005/CESM-CAM5-LME/atm/proc/tseries/monthly/CCL4_SRF',\n",
       " '/glade/p/cesm0005/CESM-CAM5-LME/atm/proc/tseries/monthly/CCN3',\n",
       " '/glade/p/cesm0005/CESM-CAM5-LME/atm/proc/tseries/monthly/CDNUMC',\n",
       " '/glade/p/cesm0005/CESM-CAM5-LME/atm/proc/tseries/monthly/CF2CLBR',\n",
       " '/glade/p/cesm0005/CESM-CAM5-LME/atm/proc/tseries/monthly/CF2CLBR_SRF',\n",
       " '/glade/p/cesm0005/CESM-CAM5-LME/atm/proc/tseries/monthly/CF3BR',\n",
       " '/glade/p/cesm0005/CESM-CAM5-LME/atm/proc/tseries/monthly/CF3BR_SRF',\n",
       " '/glade/p/cesm0005/CESM-CAM5-LME/atm/proc/tseries/monthly/CFC11',\n",
       " '/glade/p/cesm0005/CESM-CAM5-LME/atm/proc/tseries/monthly/CFC113',\n",
       " '/glade/p/cesm0005/CESM-CAM5-LME/atm/proc/tseries/monthly/CFC113_SRF',\n",
       " '/glade/p/cesm0005/CESM-CAM5-LME/atm/proc/tseries/monthly/CFC11STAR',\n",
       " '/glade/p/cesm0005/CESM-CAM5-LME/atm/proc/tseries/monthly/CFC11_SRF',\n",
       " '/glade/p/cesm0005/CESM-CAM5-LME/atm/proc/tseries/monthly/CFC12',\n",
       " '/glade/p/cesm0005/CESM-CAM5-LME/atm/proc/tseries/monthly/CFC12_SRF',\n",
       " '/glade/p/cesm0005/CESM-CAM5-LME/atm/proc/tseries/monthly/CH2O',\n",
       " '/glade/p/cesm0005/CESM-CAM5-LME/atm/proc/tseries/monthly/CH2O_SRF',\n",
       " '/glade/p/cesm0005/CESM-CAM5-LME/atm/proc/tseries/monthly/CH3BR',\n",
       " '/glade/p/cesm0005/CESM-CAM5-LME/atm/proc/tseries/monthly/CH3BR_SRF',\n",
       " '/glade/p/cesm0005/CESM-CAM5-LME/atm/proc/tseries/monthly/CH3CCL3',\n",
       " '/glade/p/cesm0005/CESM-CAM5-LME/atm/proc/tseries/monthly/CH3CCL3_SRF',\n",
       " '/glade/p/cesm0005/CESM-CAM5-LME/atm/proc/tseries/monthly/CH3CL',\n",
       " '/glade/p/cesm0005/CESM-CAM5-LME/atm/proc/tseries/monthly/CH3CL_SRF',\n",
       " '/glade/p/cesm0005/CESM-CAM5-LME/atm/proc/tseries/monthly/CH3O2',\n",
       " '/glade/p/cesm0005/CESM-CAM5-LME/atm/proc/tseries/monthly/CH3O2_SRF',\n",
       " '/glade/p/cesm0005/CESM-CAM5-LME/atm/proc/tseries/monthly/CH3OOH',\n",
       " '/glade/p/cesm0005/CESM-CAM5-LME/atm/proc/tseries/monthly/CH3OOH_SRF',\n",
       " '/glade/p/cesm0005/CESM-CAM5-LME/atm/proc/tseries/monthly/CH4',\n",
       " '/glade/p/cesm0005/CESM-CAM5-LME/atm/proc/tseries/monthly/CH4_SRF',\n",
       " '/glade/p/cesm0005/CESM-CAM5-LME/atm/proc/tseries/monthly/CL',\n",
       " '/glade/p/cesm0005/CESM-CAM5-LME/atm/proc/tseries/monthly/CL2',\n",
       " '/glade/p/cesm0005/CESM-CAM5-LME/atm/proc/tseries/monthly/CL2O2',\n",
       " '/glade/p/cesm0005/CESM-CAM5-LME/atm/proc/tseries/monthly/CL2O2_SRF',\n",
       " '/glade/p/cesm0005/CESM-CAM5-LME/atm/proc/tseries/monthly/CL2_SRF',\n",
       " '/glade/p/cesm0005/CESM-CAM5-LME/atm/proc/tseries/monthly/CLDHGH',\n",
       " '/glade/p/cesm0005/CESM-CAM5-LME/atm/proc/tseries/monthly/CLDICE',\n",
       " '/glade/p/cesm0005/CESM-CAM5-LME/atm/proc/tseries/monthly/CLDLIQ',\n",
       " '/glade/p/cesm0005/CESM-CAM5-LME/atm/proc/tseries/monthly/CLDLOW',\n",
       " '/glade/p/cesm0005/CESM-CAM5-LME/atm/proc/tseries/monthly/CLDMED',\n",
       " '/glade/p/cesm0005/CESM-CAM5-LME/atm/proc/tseries/monthly/CLDTOT',\n",
       " '/glade/p/cesm0005/CESM-CAM5-LME/atm/proc/tseries/monthly/CLO',\n",
       " '/glade/p/cesm0005/CESM-CAM5-LME/atm/proc/tseries/monthly/CLONO2',\n",
       " '/glade/p/cesm0005/CESM-CAM5-LME/atm/proc/tseries/monthly/CLONO2_SRF',\n",
       " '/glade/p/cesm0005/CESM-CAM5-LME/atm/proc/tseries/monthly/CLOUD',\n",
       " '/glade/p/cesm0005/CESM-CAM5-LME/atm/proc/tseries/monthly/CLOX',\n",
       " '/glade/p/cesm0005/CESM-CAM5-LME/atm/proc/tseries/monthly/CLOY',\n",
       " '/glade/p/cesm0005/CESM-CAM5-LME/atm/proc/tseries/monthly/CLO_SRF',\n",
       " '/glade/p/cesm0005/CESM-CAM5-LME/atm/proc/tseries/monthly/CL_SRF',\n",
       " '/glade/p/cesm0005/CESM-CAM5-LME/atm/proc/tseries/monthly/CO',\n",
       " '/glade/p/cesm0005/CESM-CAM5-LME/atm/proc/tseries/monthly/CO2',\n",
       " '/glade/p/cesm0005/CESM-CAM5-LME/atm/proc/tseries/monthly/CO2_SRF',\n",
       " '/glade/p/cesm0005/CESM-CAM5-LME/atm/proc/tseries/monthly/CONCLD',\n",
       " '/glade/p/cesm0005/CESM-CAM5-LME/atm/proc/tseries/monthly/CO_SRF',\n",
       " '/glade/p/cesm0005/CESM-CAM5-LME/atm/proc/tseries/monthly/DCQ',\n",
       " '/glade/p/cesm0005/CESM-CAM5-LME/atm/proc/tseries/monthly/DMS',\n",
       " '/glade/p/cesm0005/CESM-CAM5-LME/atm/proc/tseries/monthly/DMS_SRF',\n",
       " '/glade/p/cesm0005/CESM-CAM5-LME/atm/proc/tseries/monthly/DTCOND',\n",
       " '/glade/p/cesm0005/CESM-CAM5-LME/atm/proc/tseries/monthly/DTCORE',\n",
       " '/glade/p/cesm0005/CESM-CAM5-LME/atm/proc/tseries/monthly/DTV',\n",
       " '/glade/p/cesm0005/CESM-CAM5-LME/atm/proc/tseries/monthly/DUV',\n",
       " '/glade/p/cesm0005/CESM-CAM5-LME/atm/proc/tseries/monthly/DVV',\n",
       " '/glade/p/cesm0005/CESM-CAM5-LME/atm/proc/tseries/monthly/EKGWSPEC',\n",
       " '/glade/p/cesm0005/CESM-CAM5-LME/atm/proc/tseries/monthly/EMISCLD',\n",
       " '/glade/p/cesm0005/CESM-CAM5-LME/atm/proc/tseries/monthly/EPOTEN',\n",
       " '/glade/p/cesm0005/CESM-CAM5-LME/atm/proc/tseries/monthly/EXTINCT',\n",
       " '/glade/p/cesm0005/CESM-CAM5-LME/atm/proc/tseries/monthly/FICE',\n",
       " '/glade/p/cesm0005/CESM-CAM5-LME/atm/proc/tseries/monthly/FLDS',\n",
       " '/glade/p/cesm0005/CESM-CAM5-LME/atm/proc/tseries/monthly/FLNS',\n",
       " '/glade/p/cesm0005/CESM-CAM5-LME/atm/proc/tseries/monthly/FLNSC',\n",
       " '/glade/p/cesm0005/CESM-CAM5-LME/atm/proc/tseries/monthly/FLNT',\n",
       " '/glade/p/cesm0005/CESM-CAM5-LME/atm/proc/tseries/monthly/FLNTC',\n",
       " '/glade/p/cesm0005/CESM-CAM5-LME/atm/proc/tseries/monthly/FLUT',\n",
       " '/glade/p/cesm0005/CESM-CAM5-LME/atm/proc/tseries/monthly/FLUTC',\n",
       " '/glade/p/cesm0005/CESM-CAM5-LME/atm/proc/tseries/monthly/FREQI',\n",
       " '/glade/p/cesm0005/CESM-CAM5-LME/atm/proc/tseries/monthly/FREQL',\n",
       " '/glade/p/cesm0005/CESM-CAM5-LME/atm/proc/tseries/monthly/FREQR',\n",
       " '/glade/p/cesm0005/CESM-CAM5-LME/atm/proc/tseries/monthly/FREQS',\n",
       " '/glade/p/cesm0005/CESM-CAM5-LME/atm/proc/tseries/monthly/FRONTGF',\n",
       " '/glade/p/cesm0005/CESM-CAM5-LME/atm/proc/tseries/monthly/FRONTGFA',\n",
       " '/glade/p/cesm0005/CESM-CAM5-LME/atm/proc/tseries/monthly/FSDS',\n",
       " '/glade/p/cesm0005/CESM-CAM5-LME/atm/proc/tseries/monthly/FSDSC',\n",
       " '/glade/p/cesm0005/CESM-CAM5-LME/atm/proc/tseries/monthly/FSNS',\n",
       " '/glade/p/cesm0005/CESM-CAM5-LME/atm/proc/tseries/monthly/FSNSC',\n",
       " '/glade/p/cesm0005/CESM-CAM5-LME/atm/proc/tseries/monthly/FSNT',\n",
       " '/glade/p/cesm0005/CESM-CAM5-LME/atm/proc/tseries/monthly/FSNTC',\n",
       " '/glade/p/cesm0005/CESM-CAM5-LME/atm/proc/tseries/monthly/FSNTOA',\n",
       " '/glade/p/cesm0005/CESM-CAM5-LME/atm/proc/tseries/monthly/FSNTOAC',\n",
       " '/glade/p/cesm0005/CESM-CAM5-LME/atm/proc/tseries/monthly/FSUTOA',\n",
       " '/glade/p/cesm0005/CESM-CAM5-LME/atm/proc/tseries/monthly/H',\n",
       " '/glade/p/cesm0005/CESM-CAM5-LME/atm/proc/tseries/monthly/H2',\n",
       " '/glade/p/cesm0005/CESM-CAM5-LME/atm/proc/tseries/monthly/H216OI',\n",
       " '/glade/p/cesm0005/CESM-CAM5-LME/atm/proc/tseries/monthly/H216OL',\n",
       " '/glade/p/cesm0005/CESM-CAM5-LME/atm/proc/tseries/monthly/H216OR',\n",
       " '/glade/p/cesm0005/CESM-CAM5-LME/atm/proc/tseries/monthly/H216OS',\n",
       " '/glade/p/cesm0005/CESM-CAM5-LME/atm/proc/tseries/monthly/H216OV',\n",
       " '/glade/p/cesm0005/CESM-CAM5-LME/atm/proc/tseries/monthly/H216Or',\n",
       " '/glade/p/cesm0005/CESM-CAM5-LME/atm/proc/tseries/monthly/H216Os',\n",
       " '/glade/p/cesm0005/CESM-CAM5-LME/atm/proc/tseries/monthly/H218OI',\n",
       " '/glade/p/cesm0005/CESM-CAM5-LME/atm/proc/tseries/monthly/H218OL',\n",
       " '/glade/p/cesm0005/CESM-CAM5-LME/atm/proc/tseries/monthly/H218OR',\n",
       " '/glade/p/cesm0005/CESM-CAM5-LME/atm/proc/tseries/monthly/H218OS',\n",
       " '/glade/p/cesm0005/CESM-CAM5-LME/atm/proc/tseries/monthly/H218OV',\n",
       " '/glade/p/cesm0005/CESM-CAM5-LME/atm/proc/tseries/monthly/H218Or',\n",
       " '/glade/p/cesm0005/CESM-CAM5-LME/atm/proc/tseries/monthly/H218Os',\n",
       " '/glade/p/cesm0005/CESM-CAM5-LME/atm/proc/tseries/monthly/H2O',\n",
       " '/glade/p/cesm0005/CESM-CAM5-LME/atm/proc/tseries/monthly/H2O2',\n",
       " '/glade/p/cesm0005/CESM-CAM5-LME/atm/proc/tseries/monthly/H2O2_SRF',\n",
       " '/glade/p/cesm0005/CESM-CAM5-LME/atm/proc/tseries/monthly/H2OI',\n",
       " '/glade/p/cesm0005/CESM-CAM5-LME/atm/proc/tseries/monthly/H2OL',\n",
       " '/glade/p/cesm0005/CESM-CAM5-LME/atm/proc/tseries/monthly/H2OR',\n",
       " '/glade/p/cesm0005/CESM-CAM5-LME/atm/proc/tseries/monthly/H2OS',\n",
       " '/glade/p/cesm0005/CESM-CAM5-LME/atm/proc/tseries/monthly/H2OV',\n",
       " '/glade/p/cesm0005/CESM-CAM5-LME/atm/proc/tseries/monthly/H2O_SRF',\n",
       " '/glade/p/cesm0005/CESM-CAM5-LME/atm/proc/tseries/monthly/H2Or',\n",
       " '/glade/p/cesm0005/CESM-CAM5-LME/atm/proc/tseries/monthly/H2Os',\n",
       " '/glade/p/cesm0005/CESM-CAM5-LME/atm/proc/tseries/monthly/H2SO4',\n",
       " '/glade/p/cesm0005/CESM-CAM5-LME/atm/proc/tseries/monthly/H2SO4_SRF',\n",
       " '/glade/p/cesm0005/CESM-CAM5-LME/atm/proc/tseries/monthly/H2_SRF',\n",
       " '/glade/p/cesm0005/CESM-CAM5-LME/atm/proc/tseries/monthly/HBR',\n",
       " '/glade/p/cesm0005/CESM-CAM5-LME/atm/proc/tseries/monthly/HBR_SRF',\n",
       " '/glade/p/cesm0005/CESM-CAM5-LME/atm/proc/tseries/monthly/HCFC22',\n",
       " '/glade/p/cesm0005/CESM-CAM5-LME/atm/proc/tseries/monthly/HCFC22_SRF',\n",
       " '/glade/p/cesm0005/CESM-CAM5-LME/atm/proc/tseries/monthly/HCL',\n",
       " '/glade/p/cesm0005/CESM-CAM5-LME/atm/proc/tseries/monthly/HCL_SRF',\n",
       " '/glade/p/cesm0005/CESM-CAM5-LME/atm/proc/tseries/monthly/HDEPTH',\n",
       " '/glade/p/cesm0005/CESM-CAM5-LME/atm/proc/tseries/monthly/HDOI',\n",
       " '/glade/p/cesm0005/CESM-CAM5-LME/atm/proc/tseries/monthly/HDOL',\n",
       " '/glade/p/cesm0005/CESM-CAM5-LME/atm/proc/tseries/monthly/HDOR',\n",
       " '/glade/p/cesm0005/CESM-CAM5-LME/atm/proc/tseries/monthly/HDOS',\n",
       " '/glade/p/cesm0005/CESM-CAM5-LME/atm/proc/tseries/monthly/HDOV',\n",
       " '/glade/p/cesm0005/CESM-CAM5-LME/atm/proc/tseries/monthly/HDOr',\n",
       " '/glade/p/cesm0005/CESM-CAM5-LME/atm/proc/tseries/monthly/HDOs',\n",
       " '/glade/p/cesm0005/CESM-CAM5-LME/atm/proc/tseries/monthly/HNO3',\n",
       " '/glade/p/cesm0005/CESM-CAM5-LME/atm/proc/tseries/monthly/HNO3_GAS',\n",
       " '/glade/p/cesm0005/CESM-CAM5-LME/atm/proc/tseries/monthly/HNO3_NAT',\n",
       " '/glade/p/cesm0005/CESM-CAM5-LME/atm/proc/tseries/monthly/HNO3_SRF',\n",
       " '/glade/p/cesm0005/CESM-CAM5-LME/atm/proc/tseries/monthly/HNO3_STS',\n",
       " '/glade/p/cesm0005/CESM-CAM5-LME/atm/proc/tseries/monthly/HO2',\n",
       " '/glade/p/cesm0005/CESM-CAM5-LME/atm/proc/tseries/monthly/HO2NO2',\n",
       " '/glade/p/cesm0005/CESM-CAM5-LME/atm/proc/tseries/monthly/HO2NO2_SRF',\n",
       " '/glade/p/cesm0005/CESM-CAM5-LME/atm/proc/tseries/monthly/HO2_SRF',\n",
       " '/glade/p/cesm0005/CESM-CAM5-LME/atm/proc/tseries/monthly/HOBR',\n",
       " '/glade/p/cesm0005/CESM-CAM5-LME/atm/proc/tseries/monthly/HOBR_SRF',\n",
       " '/glade/p/cesm0005/CESM-CAM5-LME/atm/proc/tseries/monthly/HOCL',\n",
       " '/glade/p/cesm0005/CESM-CAM5-LME/atm/proc/tseries/monthly/HOCL_SRF',\n",
       " '/glade/p/cesm0005/CESM-CAM5-LME/atm/proc/tseries/monthly/HORZ',\n",
       " '/glade/p/cesm0005/CESM-CAM5-LME/atm/proc/tseries/monthly/HORZSRC',\n",
       " '/glade/p/cesm0005/CESM-CAM5-LME/atm/proc/tseries/monthly/H_SRF',\n",
       " '/glade/p/cesm0005/CESM-CAM5-LME/atm/proc/tseries/monthly/ICEFRAC',\n",
       " '/glade/p/cesm0005/CESM-CAM5-LME/atm/proc/tseries/monthly/ICIMR',\n",
       " '/glade/p/cesm0005/CESM-CAM5-LME/atm/proc/tseries/monthly/ICLDIWP',\n",
       " '/glade/p/cesm0005/CESM-CAM5-LME/atm/proc/tseries/monthly/ICLDTWP',\n",
       " '/glade/p/cesm0005/CESM-CAM5-LME/atm/proc/tseries/monthly/ICWMR',\n",
       " '/glade/p/cesm0005/CESM-CAM5-LME/atm/proc/tseries/monthly/IWC',\n",
       " '/glade/p/cesm0005/CESM-CAM5-LME/atm/proc/tseries/monthly/LANDFRAC',\n",
       " '/glade/p/cesm0005/CESM-CAM5-LME/atm/proc/tseries/monthly/LHFLX',\n",
       " '/glade/p/cesm0005/CESM-CAM5-LME/atm/proc/tseries/monthly/LHFLX2',\n",
       " '/glade/p/cesm0005/CESM-CAM5-LME/atm/proc/tseries/monthly/LND_MBL',\n",
       " '/glade/p/cesm0005/CESM-CAM5-LME/atm/proc/tseries/monthly/LWCF',\n",
       " '/glade/p/cesm0005/CESM-CAM5-LME/atm/proc/tseries/monthly/MAXQ0',\n",
       " '/glade/p/cesm0005/CESM-CAM5-LME/atm/proc/tseries/monthly/MSKtem',\n",
       " '/glade/p/cesm0005/CESM-CAM5-LME/atm/proc/tseries/monthly/N',\n",
       " '/glade/p/cesm0005/CESM-CAM5-LME/atm/proc/tseries/monthly/N2D_SRF',\n",
       " '/glade/p/cesm0005/CESM-CAM5-LME/atm/proc/tseries/monthly/N2O',\n",
       " '/glade/p/cesm0005/CESM-CAM5-LME/atm/proc/tseries/monthly/N2O5',\n",
       " '/glade/p/cesm0005/CESM-CAM5-LME/atm/proc/tseries/monthly/N2O5_SRF',\n",
       " '/glade/p/cesm0005/CESM-CAM5-LME/atm/proc/tseries/monthly/N2O_SRF',\n",
       " '/glade/p/cesm0005/CESM-CAM5-LME/atm/proc/tseries/monthly/N2p_SRF',\n",
       " '/glade/p/cesm0005/CESM-CAM5-LME/atm/proc/tseries/monthly/NETDT',\n",
       " '/glade/p/cesm0005/CESM-CAM5-LME/atm/proc/tseries/monthly/NO',\n",
       " '/glade/p/cesm0005/CESM-CAM5-LME/atm/proc/tseries/monthly/NO2',\n",
       " '/glade/p/cesm0005/CESM-CAM5-LME/atm/proc/tseries/monthly/NO2_SRF',\n",
       " '/glade/p/cesm0005/CESM-CAM5-LME/atm/proc/tseries/monthly/NO3',\n",
       " '/glade/p/cesm0005/CESM-CAM5-LME/atm/proc/tseries/monthly/NO3_SRF',\n",
       " '/glade/p/cesm0005/CESM-CAM5-LME/atm/proc/tseries/monthly/NOX',\n",
       " '/glade/p/cesm0005/CESM-CAM5-LME/atm/proc/tseries/monthly/NOY',\n",
       " '/glade/p/cesm0005/CESM-CAM5-LME/atm/proc/tseries/monthly/NO_Aircraft',\n",
       " '/glade/p/cesm0005/CESM-CAM5-LME/atm/proc/tseries/monthly/NO_Lightning',\n",
       " '/glade/p/cesm0005/CESM-CAM5-LME/atm/proc/tseries/monthly/NO_SRF',\n",
       " '/glade/p/cesm0005/CESM-CAM5-LME/atm/proc/tseries/monthly/NOp_SRF',\n",
       " '/glade/p/cesm0005/CESM-CAM5-LME/atm/proc/tseries/monthly/NUMICE',\n",
       " '/glade/p/cesm0005/CESM-CAM5-LME/atm/proc/tseries/monthly/NUMLIQ',\n",
       " '/glade/p/cesm0005/CESM-CAM5-LME/atm/proc/tseries/monthly/N_SRF',\n",
       " '/glade/p/cesm0005/CESM-CAM5-LME/atm/proc/tseries/monthly/Np_SRF',\n",
       " '/glade/p/cesm0005/CESM-CAM5-LME/atm/proc/tseries/monthly/O',\n",
       " '/glade/p/cesm0005/CESM-CAM5-LME/atm/proc/tseries/monthly/O1D',\n",
       " '/glade/p/cesm0005/CESM-CAM5-LME/atm/proc/tseries/monthly/O1D_SRF',\n",
       " '/glade/p/cesm0005/CESM-CAM5-LME/atm/proc/tseries/monthly/O2',\n",
       " '/glade/p/cesm0005/CESM-CAM5-LME/atm/proc/tseries/monthly/O2_1D',\n",
       " '/glade/p/cesm0005/CESM-CAM5-LME/atm/proc/tseries/monthly/O2_1D_SRF',\n",
       " '/glade/p/cesm0005/CESM-CAM5-LME/atm/proc/tseries/monthly/O2_1S',\n",
       " '/glade/p/cesm0005/CESM-CAM5-LME/atm/proc/tseries/monthly/O2_1S_SRF',\n",
       " '/glade/p/cesm0005/CESM-CAM5-LME/atm/proc/tseries/monthly/O2_SRF',\n",
       " '/glade/p/cesm0005/CESM-CAM5-LME/atm/proc/tseries/monthly/O2p_SRF',\n",
       " '/glade/p/cesm0005/CESM-CAM5-LME/atm/proc/tseries/monthly/O3',\n",
       " '/glade/p/cesm0005/CESM-CAM5-LME/atm/proc/tseries/monthly/O3_SRF',\n",
       " '/glade/p/cesm0005/CESM-CAM5-LME/atm/proc/tseries/monthly/OCLO',\n",
       " '/glade/p/cesm0005/CESM-CAM5-LME/atm/proc/tseries/monthly/OCLO_SRF',\n",
       " '/glade/p/cesm0005/CESM-CAM5-LME/atm/proc/tseries/monthly/OCNFRAC',\n",
       " '/glade/p/cesm0005/CESM-CAM5-LME/atm/proc/tseries/monthly/OH',\n",
       " '/glade/p/cesm0005/CESM-CAM5-LME/atm/proc/tseries/monthly/OH_SRF',\n",
       " '/glade/p/cesm0005/CESM-CAM5-LME/atm/proc/tseries/monthly/OMEGA',\n",
       " '/glade/p/cesm0005/CESM-CAM5-LME/atm/proc/tseries/monthly/OMEGAQ',\n",
       " '/glade/p/cesm0005/CESM-CAM5-LME/atm/proc/tseries/monthly/OMEGAT',\n",
       " '/glade/p/cesm0005/CESM-CAM5-LME/atm/proc/tseries/monthly/OMEGAZ',\n",
       " '/glade/p/cesm0005/CESM-CAM5-LME/atm/proc/tseries/monthly/OMEGA_12_COS',\n",
       " '/glade/p/cesm0005/CESM-CAM5-LME/atm/proc/tseries/monthly/OMEGA_12_SIN',\n",
       " '/glade/p/cesm0005/CESM-CAM5-LME/atm/proc/tseries/monthly/OMEGA_24_COS',\n",
       " '/glade/p/cesm0005/CESM-CAM5-LME/atm/proc/tseries/monthly/OMEGA_24_SIN',\n",
       " '/glade/p/cesm0005/CESM-CAM5-LME/atm/proc/tseries/monthly/ORO',\n",
       " '/glade/p/cesm0005/CESM-CAM5-LME/atm/proc/tseries/monthly/O_SRF',\n",
       " '/glade/p/cesm0005/CESM-CAM5-LME/atm/proc/tseries/monthly/Op_SRF',\n",
       " '/glade/p/cesm0005/CESM-CAM5-LME/atm/proc/tseries/monthly/PBLH',\n",
       " '/glade/p/cesm0005/CESM-CAM5-LME/atm/proc/tseries/monthly/PHIS',\n",
       " '/glade/p/cesm0005/CESM-CAM5-LME/atm/proc/tseries/monthly/PRECC',\n",
       " '/glade/p/cesm0005/CESM-CAM5-LME/atm/proc/tseries/monthly/PRECCDZM',\n",
       " '/glade/p/cesm0005/CESM-CAM5-LME/atm/proc/tseries/monthly/PRECL',\n",
       " '/glade/p/cesm0005/CESM-CAM5-LME/atm/proc/tseries/monthly/PRECRC_H216Or',\n",
       " '/glade/p/cesm0005/CESM-CAM5-LME/atm/proc/tseries/monthly/PRECRC_H218Or',\n",
       " '/glade/p/cesm0005/CESM-CAM5-LME/atm/proc/tseries/monthly/PRECRC_H2Or',\n",
       " '/glade/p/cesm0005/CESM-CAM5-LME/atm/proc/tseries/monthly/PRECRC_HDOr',\n",
       " '/glade/p/cesm0005/CESM-CAM5-LME/atm/proc/tseries/monthly/PRECRL_H216OR',\n",
       " '/glade/p/cesm0005/CESM-CAM5-LME/atm/proc/tseries/monthly/PRECRL_H218OR',\n",
       " '/glade/p/cesm0005/CESM-CAM5-LME/atm/proc/tseries/monthly/PRECRL_H2OR',\n",
       " '/glade/p/cesm0005/CESM-CAM5-LME/atm/proc/tseries/monthly/PRECRL_HDOR',\n",
       " '/glade/p/cesm0005/CESM-CAM5-LME/atm/proc/tseries/monthly/PRECSC',\n",
       " '/glade/p/cesm0005/CESM-CAM5-LME/atm/proc/tseries/monthly/PRECSC_H216Os',\n",
       " '/glade/p/cesm0005/CESM-CAM5-LME/atm/proc/tseries/monthly/PRECSC_H218Os',\n",
       " '/glade/p/cesm0005/CESM-CAM5-LME/atm/proc/tseries/monthly/PRECSC_H2Os',\n",
       " '/glade/p/cesm0005/CESM-CAM5-LME/atm/proc/tseries/monthly/PRECSC_HDOs',\n",
       " '/glade/p/cesm0005/CESM-CAM5-LME/atm/proc/tseries/monthly/PRECSH',\n",
       " '/glade/p/cesm0005/CESM-CAM5-LME/atm/proc/tseries/monthly/PRECSL',\n",
       " '/glade/p/cesm0005/CESM-CAM5-LME/atm/proc/tseries/monthly/PRECSL_H216OS',\n",
       " '/glade/p/cesm0005/CESM-CAM5-LME/atm/proc/tseries/monthly/PRECSL_H218OS',\n",
       " '/glade/p/cesm0005/CESM-CAM5-LME/atm/proc/tseries/monthly/PRECSL_H2OS',\n",
       " '/glade/p/cesm0005/CESM-CAM5-LME/atm/proc/tseries/monthly/PRECSL_HDOS',\n",
       " '/glade/p/cesm0005/CESM-CAM5-LME/atm/proc/tseries/monthly/PRECT',\n",
       " '/glade/p/cesm0005/CESM-CAM5-LME/atm/proc/tseries/monthly/PS',\n",
       " '/glade/p/cesm0005/CESM-CAM5-LME/atm/proc/tseries/monthly/PSL',\n",
       " '/glade/p/cesm0005/CESM-CAM5-LME/atm/proc/tseries/monthly/PS_12_COS',\n",
       " '/glade/p/cesm0005/CESM-CAM5-LME/atm/proc/tseries/monthly/PS_12_SIN',\n",
       " '/glade/p/cesm0005/CESM-CAM5-LME/atm/proc/tseries/monthly/PS_24_COS',\n",
       " '/glade/p/cesm0005/CESM-CAM5-LME/atm/proc/tseries/monthly/PS_24_SIN',\n",
       " '/glade/p/cesm0005/CESM-CAM5-LME/atm/proc/tseries/monthly/Q',\n",
       " '/glade/p/cesm0005/CESM-CAM5-LME/atm/proc/tseries/monthly/QCP',\n",
       " '/glade/p/cesm0005/CESM-CAM5-LME/atm/proc/tseries/monthly/QFLX',\n",
       " '/glade/p/cesm0005/CESM-CAM5-LME/atm/proc/tseries/monthly/QJOULE',\n",
       " '/glade/p/cesm0005/CESM-CAM5-LME/atm/proc/tseries/monthly/QNO',\n",
       " '/glade/p/cesm0005/CESM-CAM5-LME/atm/proc/tseries/monthly/QPERT',\n",
       " '/glade/p/cesm0005/CESM-CAM5-LME/atm/proc/tseries/monthly/QRAINC',\n",
       " '/glade/p/cesm0005/CESM-CAM5-LME/atm/proc/tseries/monthly/QRAINS',\n",
       " '/glade/p/cesm0005/CESM-CAM5-LME/atm/proc/tseries/monthly/QREFHT',\n",
       " '/glade/p/cesm0005/CESM-CAM5-LME/atm/proc/tseries/monthly/QRL',\n",
       " '/glade/p/cesm0005/CESM-CAM5-LME/atm/proc/tseries/monthly/QRLNLTE',\n",
       " '/glade/p/cesm0005/CESM-CAM5-LME/atm/proc/tseries/monthly/QRL_TOT',\n",
       " '/glade/p/cesm0005/CESM-CAM5-LME/atm/proc/tseries/monthly/QRS',\n",
       " '/glade/p/cesm0005/CESM-CAM5-LME/atm/proc/tseries/monthly/QRS_AUR',\n",
       " '/glade/p/cesm0005/CESM-CAM5-LME/atm/proc/tseries/monthly/QRS_CO2NIR',\n",
       " '/glade/p/cesm0005/CESM-CAM5-LME/atm/proc/tseries/monthly/QRS_EUV',\n",
       " '/glade/p/cesm0005/CESM-CAM5-LME/atm/proc/tseries/monthly/QRS_TOT',\n",
       " '/glade/p/cesm0005/CESM-CAM5-LME/atm/proc/tseries/monthly/QSNOWC',\n",
       " '/glade/p/cesm0005/CESM-CAM5-LME/atm/proc/tseries/monthly/QSNOWS',\n",
       " '/glade/p/cesm0005/CESM-CAM5-LME/atm/proc/tseries/monthly/QT',\n",
       " '/glade/p/cesm0005/CESM-CAM5-LME/atm/proc/tseries/monthly/QTFLX',\n",
       " '/glade/p/cesm0005/CESM-CAM5-LME/atm/proc/tseries/monthly/QTHERMAL',\n",
       " '/glade/p/cesm0005/CESM-CAM5-LME/atm/proc/tseries/monthly/RELHUM',\n",
       " '/glade/p/cesm0005/CESM-CAM5-LME/atm/proc/tseries/monthly/RESSURF',\n",
       " '/glade/p/cesm0005/CESM-CAM5-LME/atm/proc/tseries/monthly/RHREFHT',\n",
       " '/glade/p/cesm0005/CESM-CAM5-LME/atm/proc/tseries/monthly/SAD_ICE',\n",
       " '/glade/p/cesm0005/CESM-CAM5-LME/atm/proc/tseries/monthly/SAD_LNAT',\n",
       " '/glade/p/cesm0005/CESM-CAM5-LME/atm/proc/tseries/monthly/SAD_SULFC',\n",
       " '/glade/p/cesm0005/CESM-CAM5-LME/atm/proc/tseries/monthly/SFCH2O',\n",
       " '/glade/p/cesm0005/CESM-CAM5-LME/atm/proc/tseries/monthly/SFCO',\n",
       " '/glade/p/cesm0005/CESM-CAM5-LME/atm/proc/tseries/monthly/SFNO',\n",
       " '/glade/p/cesm0005/CESM-CAM5-LME/atm/proc/tseries/monthly/SHFLX',\n",
       " '/glade/p/cesm0005/CESM-CAM5-LME/atm/proc/tseries/monthly/SLFLX',\n",
       " '/glade/p/cesm0005/CESM-CAM5-LME/atm/proc/tseries/monthly/SNOWHICE',\n",
       " '/glade/p/cesm0005/CESM-CAM5-LME/atm/proc/tseries/monthly/SNOWHLND',\n",
       " '/glade/p/cesm0005/CESM-CAM5-LME/atm/proc/tseries/monthly/SO2',\n",
       " '/glade/p/cesm0005/CESM-CAM5-LME/atm/proc/tseries/monthly/SO2_SRF',\n",
       " '/glade/p/cesm0005/CESM-CAM5-LME/atm/proc/tseries/monthly/SOAG',\n",
       " '/glade/p/cesm0005/CESM-CAM5-LME/atm/proc/tseries/monthly/SOAG_SRF',\n",
       " '/glade/p/cesm0005/CESM-CAM5-LME/atm/proc/tseries/monthly/SOLIN',\n",
       " '/glade/p/cesm0005/CESM-CAM5-LME/atm/proc/tseries/monthly/SRFRAD',\n",
       " '/glade/p/cesm0005/CESM-CAM5-LME/atm/proc/tseries/monthly/SWCF',\n",
       " '/glade/p/cesm0005/CESM-CAM5-LME/atm/proc/tseries/monthly/T',\n",
       " '/glade/p/cesm0005/CESM-CAM5-LME/atm/proc/tseries/monthly/T700',\n",
       " '/glade/p/cesm0005/CESM-CAM5-LME/atm/proc/tseries/monthly/T850',\n",
       " '/glade/p/cesm0005/CESM-CAM5-LME/atm/proc/tseries/monthly/TAUE',\n",
       " '/glade/p/cesm0005/CESM-CAM5-LME/atm/proc/tseries/monthly/TAUGWX',\n",
       " '/glade/p/cesm0005/CESM-CAM5-LME/atm/proc/tseries/monthly/TAUGWY',\n",
       " '/glade/p/cesm0005/CESM-CAM5-LME/atm/proc/tseries/monthly/TAUN',\n",
       " '/glade/p/cesm0005/CESM-CAM5-LME/atm/proc/tseries/monthly/TAUNET',\n",
       " '/glade/p/cesm0005/CESM-CAM5-LME/atm/proc/tseries/monthly/TAUS',\n",
       " '/glade/p/cesm0005/CESM-CAM5-LME/atm/proc/tseries/monthly/TAUW',\n",
       " '/glade/p/cesm0005/CESM-CAM5-LME/atm/proc/tseries/monthly/TAUX',\n",
       " '/glade/p/cesm0005/CESM-CAM5-LME/atm/proc/tseries/monthly/TAUY',\n",
       " '/glade/p/cesm0005/CESM-CAM5-LME/atm/proc/tseries/monthly/TCLY',\n",
       " '/glade/p/cesm0005/CESM-CAM5-LME/atm/proc/tseries/monthly/TGCLDCWP',\n",
       " '/glade/p/cesm0005/CESM-CAM5-LME/atm/proc/tseries/monthly/TGCLDIWP',\n",
       " '/glade/p/cesm0005/CESM-CAM5-LME/atm/proc/tseries/monthly/TGCLDLWP',\n",
       " '/glade/p/cesm0005/CESM-CAM5-LME/atm/proc/tseries/monthly/TH',\n",
       " '/glade/p/cesm0005/CESM-CAM5-LME/atm/proc/tseries/monthly/TMQ',\n",
       " '/glade/p/cesm0005/CESM-CAM5-LME/atm/proc/tseries/monthly/TOTH',\n",
       " '/glade/p/cesm0005/CESM-CAM5-LME/atm/proc/tseries/monthly/TOT_CLD_VISTAU',\n",
       " '/glade/p/cesm0005/CESM-CAM5-LME/atm/proc/tseries/monthly/TOT_ICLD_VISTAU',\n",
       " '/glade/p/cesm0005/CESM-CAM5-LME/atm/proc/tseries/monthly/TREFHT',\n",
       " '/glade/p/cesm0005/CESM-CAM5-LME/atm/proc/tseries/monthly/TREFHTMN',\n",
       " '/glade/p/cesm0005/CESM-CAM5-LME/atm/proc/tseries/monthly/TREFHTMX',\n",
       " '/glade/p/cesm0005/CESM-CAM5-LME/atm/proc/tseries/monthly/TREFMNAV',\n",
       " '/glade/p/cesm0005/CESM-CAM5-LME/atm/proc/tseries/monthly/TREFMXAV',\n",
       " '/glade/p/cesm0005/CESM-CAM5-LME/atm/proc/tseries/monthly/TROP_P',\n",
       " '/glade/p/cesm0005/CESM-CAM5-LME/atm/proc/tseries/monthly/TROP_T',\n",
       " '/glade/p/cesm0005/CESM-CAM5-LME/atm/proc/tseries/monthly/TROP_Z',\n",
       " '/glade/p/cesm0005/CESM-CAM5-LME/atm/proc/tseries/monthly/TS',\n",
       " '/glade/p/cesm0005/CESM-CAM5-LME/atm/proc/tseries/monthly/TSLANDONLY',\n",
       " '/glade/p/cesm0005/CESM-CAM5-LME/atm/proc/tseries/monthly/TSMN',\n",
       " '/glade/p/cesm0005/CESM-CAM5-LME/atm/proc/tseries/monthly/TSMX',\n",
       " '/glade/p/cesm0005/CESM-CAM5-LME/atm/proc/tseries/monthly/TTGW',\n",
       " '/glade/p/cesm0005/CESM-CAM5-LME/atm/proc/tseries/monthly/TTPXMLC',\n",
       " '/glade/p/cesm0005/CESM-CAM5-LME/atm/proc/tseries/monthly/T_12_COS',\n",
       " '/glade/p/cesm0005/CESM-CAM5-LME/atm/proc/tseries/monthly/T_12_SIN',\n",
       " '/glade/p/cesm0005/CESM-CAM5-LME/atm/proc/tseries/monthly/T_24_COS',\n",
       " '/glade/p/cesm0005/CESM-CAM5-LME/atm/proc/tseries/monthly/T_24_SIN',\n",
       " '/glade/p/cesm0005/CESM-CAM5-LME/atm/proc/tseries/monthly/U',\n",
       " '/glade/p/cesm0005/CESM-CAM5-LME/atm/proc/tseries/monthly/U10',\n",
       " '/glade/p/cesm0005/CESM-CAM5-LME/atm/proc/tseries/monthly/UBOT',\n",
       " '/glade/p/cesm0005/CESM-CAM5-LME/atm/proc/tseries/monthly/UE',\n",
       " '/glade/p/cesm0005/CESM-CAM5-LME/atm/proc/tseries/monthly/UFLX',\n",
       " '/glade/p/cesm0005/CESM-CAM5-LME/atm/proc/tseries/monthly/UIONTEND',\n",
       " '/glade/p/cesm0005/CESM-CAM5-LME/atm/proc/tseries/monthly/UQ',\n",
       " '/glade/p/cesm0005/CESM-CAM5-LME/atm/proc/tseries/monthly/US',\n",
       " '/glade/p/cesm0005/CESM-CAM5-LME/atm/proc/tseries/monthly/UT',\n",
       " '/glade/p/cesm0005/CESM-CAM5-LME/atm/proc/tseries/monthly/UTEND1',\n",
       " '/glade/p/cesm0005/CESM-CAM5-LME/atm/proc/tseries/monthly/UTEND2',\n",
       " '/glade/p/cesm0005/CESM-CAM5-LME/atm/proc/tseries/monthly/UTEND3',\n",
       " '/glade/p/cesm0005/CESM-CAM5-LME/atm/proc/tseries/monthly/UTEND4',\n",
       " '/glade/p/cesm0005/CESM-CAM5-LME/atm/proc/tseries/monthly/UTEND5',\n",
       " '/glade/p/cesm0005/CESM-CAM5-LME/atm/proc/tseries/monthly/UTGWORO',\n",
       " '/glade/p/cesm0005/CESM-CAM5-LME/atm/proc/tseries/monthly/UTGWSPEC',\n",
       " '/glade/p/cesm0005/CESM-CAM5-LME/atm/proc/tseries/monthly/UU',\n",
       " '/glade/p/cesm0005/CESM-CAM5-LME/atm/proc/tseries/monthly/UV3d',\n",
       " '/glade/p/cesm0005/CESM-CAM5-LME/atm/proc/tseries/monthly/UW3d',\n",
       " '/glade/p/cesm0005/CESM-CAM5-LME/atm/proc/tseries/monthly/UW_leng',\n",
       " '/glade/p/cesm0005/CESM-CAM5-LME/atm/proc/tseries/monthly/UW_ri',\n",
       " '/glade/p/cesm0005/CESM-CAM5-LME/atm/proc/tseries/monthly/UZ',\n",
       " '/glade/p/cesm0005/CESM-CAM5-LME/atm/proc/tseries/monthly/U_12_COS',\n",
       " '/glade/p/cesm0005/CESM-CAM5-LME/atm/proc/tseries/monthly/U_12_SIN',\n",
       " '/glade/p/cesm0005/CESM-CAM5-LME/atm/proc/tseries/monthly/U_24_COS',\n",
       " '/glade/p/cesm0005/CESM-CAM5-LME/atm/proc/tseries/monthly/U_24_SIN',\n",
       " '/glade/p/cesm0005/CESM-CAM5-LME/atm/proc/tseries/monthly/V',\n",
       " '/glade/p/cesm0005/CESM-CAM5-LME/atm/proc/tseries/monthly/VBOT',\n",
       " '/glade/p/cesm0005/CESM-CAM5-LME/atm/proc/tseries/monthly/VD01',\n",
       " '/glade/p/cesm0005/CESM-CAM5-LME/atm/proc/tseries/monthly/VE',\n",
       " '/glade/p/cesm0005/CESM-CAM5-LME/atm/proc/tseries/monthly/VERT',\n",
       " '/glade/p/cesm0005/CESM-CAM5-LME/atm/proc/tseries/monthly/VERTSRC',\n",
       " '/glade/p/cesm0005/CESM-CAM5-LME/atm/proc/tseries/monthly/VIONTEND',\n",
       " '/glade/p/cesm0005/CESM-CAM5-LME/atm/proc/tseries/monthly/VQ',\n",
       " '/glade/p/cesm0005/CESM-CAM5-LME/atm/proc/tseries/monthly/VT',\n",
       " '/glade/p/cesm0005/CESM-CAM5-LME/atm/proc/tseries/monthly/VTGWORO',\n",
       " '/glade/p/cesm0005/CESM-CAM5-LME/atm/proc/tseries/monthly/VTGWSPEC',\n",
       " '/glade/p/cesm0005/CESM-CAM5-LME/atm/proc/tseries/monthly/VTH3d',\n",
       " '/glade/p/cesm0005/CESM-CAM5-LME/atm/proc/tseries/monthly/VU',\n",
       " '/glade/p/cesm0005/CESM-CAM5-LME/atm/proc/tseries/monthly/VV',\n",
       " '/glade/p/cesm0005/CESM-CAM5-LME/atm/proc/tseries/monthly/VZ',\n",
       " '/glade/p/cesm0005/CESM-CAM5-LME/atm/proc/tseries/monthly/V_12_COS',\n",
       " '/glade/p/cesm0005/CESM-CAM5-LME/atm/proc/tseries/monthly/V_12_SIN',\n",
       " '/glade/p/cesm0005/CESM-CAM5-LME/atm/proc/tseries/monthly/V_24_COS',\n",
       " '/glade/p/cesm0005/CESM-CAM5-LME/atm/proc/tseries/monthly/V_24_SIN',\n",
       " '/glade/p/cesm0005/CESM-CAM5-LME/atm/proc/tseries/monthly/WGUSTD',\n",
       " '/glade/p/cesm0005/CESM-CAM5-LME/atm/proc/tseries/monthly/WSPDSRFMX',\n",
       " '/glade/p/cesm0005/CESM-CAM5-LME/atm/proc/tseries/monthly/WSUB',\n",
       " '/glade/p/cesm0005/CESM-CAM5-LME/atm/proc/tseries/monthly/WTH3d',\n",
       " '/glade/p/cesm0005/CESM-CAM5-LME/atm/proc/tseries/monthly/Z3',\n",
       " '/glade/p/cesm0005/CESM-CAM5-LME/atm/proc/tseries/monthly/bc_a1',\n",
       " '/glade/p/cesm0005/CESM-CAM5-LME/atm/proc/tseries/monthly/bc_a1_SRF',\n",
       " '/glade/p/cesm0005/CESM-CAM5-LME/atm/proc/tseries/monthly/dst_a1',\n",
       " '/glade/p/cesm0005/CESM-CAM5-LME/atm/proc/tseries/monthly/dst_a1SF',\n",
       " '/glade/p/cesm0005/CESM-CAM5-LME/atm/proc/tseries/monthly/dst_a1_SRF',\n",
       " '/glade/p/cesm0005/CESM-CAM5-LME/atm/proc/tseries/monthly/dst_a3',\n",
       " '/glade/p/cesm0005/CESM-CAM5-LME/atm/proc/tseries/monthly/dst_a3SF',\n",
       " '/glade/p/cesm0005/CESM-CAM5-LME/atm/proc/tseries/monthly/dst_a3_SRF',\n",
       " '/glade/p/cesm0005/CESM-CAM5-LME/atm/proc/tseries/monthly/e_SRF',\n",
       " '/glade/p/cesm0005/CESM-CAM5-LME/atm/proc/tseries/monthly/ncl_a1',\n",
       " '/glade/p/cesm0005/CESM-CAM5-LME/atm/proc/tseries/monthly/ncl_a1_SRF',\n",
       " '/glade/p/cesm0005/CESM-CAM5-LME/atm/proc/tseries/monthly/ncl_a2',\n",
       " '/glade/p/cesm0005/CESM-CAM5-LME/atm/proc/tseries/monthly/ncl_a2_SRF',\n",
       " '/glade/p/cesm0005/CESM-CAM5-LME/atm/proc/tseries/monthly/ncl_a3',\n",
       " '/glade/p/cesm0005/CESM-CAM5-LME/atm/proc/tseries/monthly/ncl_a3_SRF',\n",
       " '/glade/p/cesm0005/CESM-CAM5-LME/atm/proc/tseries/monthly/num_a1',\n",
       " '/glade/p/cesm0005/CESM-CAM5-LME/atm/proc/tseries/monthly/num_a1_SRF',\n",
       " '/glade/p/cesm0005/CESM-CAM5-LME/atm/proc/tseries/monthly/num_a2',\n",
       " '/glade/p/cesm0005/CESM-CAM5-LME/atm/proc/tseries/monthly/num_a2_SRF',\n",
       " '/glade/p/cesm0005/CESM-CAM5-LME/atm/proc/tseries/monthly/num_a3',\n",
       " '/glade/p/cesm0005/CESM-CAM5-LME/atm/proc/tseries/monthly/num_a3_SRF',\n",
       " '/glade/p/cesm0005/CESM-CAM5-LME/atm/proc/tseries/monthly/pom_a1',\n",
       " '/glade/p/cesm0005/CESM-CAM5-LME/atm/proc/tseries/monthly/pom_a1_SRF',\n",
       " '/glade/p/cesm0005/CESM-CAM5-LME/atm/proc/tseries/monthly/so4_a1',\n",
       " '/glade/p/cesm0005/CESM-CAM5-LME/atm/proc/tseries/monthly/so4_a1_SRF',\n",
       " '/glade/p/cesm0005/CESM-CAM5-LME/atm/proc/tseries/monthly/so4_a2',\n",
       " '/glade/p/cesm0005/CESM-CAM5-LME/atm/proc/tseries/monthly/so4_a2_SRF',\n",
       " '/glade/p/cesm0005/CESM-CAM5-LME/atm/proc/tseries/monthly/so4_a3',\n",
       " '/glade/p/cesm0005/CESM-CAM5-LME/atm/proc/tseries/monthly/so4_a3_SRF',\n",
       " '/glade/p/cesm0005/CESM-CAM5-LME/atm/proc/tseries/monthly/soa_a1',\n",
       " '/glade/p/cesm0005/CESM-CAM5-LME/atm/proc/tseries/monthly/soa_a1_SRF',\n",
       " '/glade/p/cesm0005/CESM-CAM5-LME/atm/proc/tseries/monthly/soa_a2',\n",
       " '/glade/p/cesm0005/CESM-CAM5-LME/atm/proc/tseries/monthly/soa_a2_SRF',\n",
       " '/glade/p/cesm0005/CESM-CAM5-LME/atm/proc/tseries/monthly/thevars']"
      ]
     },
     "execution_count": 3,
     "metadata": {},
     "output_type": "execute_result"
    }
   ],
   "source": [
    "lme_month_dir = \"/glade/p/cesm0005/CESM-CAM5-LME/atm/proc/tseries/monthly/\"\n",
    "lme_daily_dir = \"/glade/p/cesm0005/CESM-CAM5-LME/atm/proc/tseries/daily/\"\n",
    "sorted(glob(lme_month_dir + \"*\"))"
   ]
  },
  {
   "cell_type": "code",
   "execution_count": 4,
   "metadata": {
    "collapsed": true
   },
   "outputs": [],
   "source": [
    "nc_file = join(lme_daily_dir, \"PRECT\", \"b.e11.BLMTRC5CN.f19_g16.002.cam.h1.PRECT.08500101-18491231.nc\")\n",
    "d = Dataset(nc_file)"
   ]
  },
  {
   "cell_type": "code",
   "execution_count": 6,
   "metadata": {},
   "outputs": [
    {
     "data": {
      "text/plain": [
       "(365000, 96, 144)"
      ]
     },
     "execution_count": 6,
     "metadata": {},
     "output_type": "execute_result"
    }
   ],
   "source": [
    "d.variables[\"PRECT\"].shape"
   ]
  },
  {
   "cell_type": "code",
   "execution_count": 62,
   "metadata": {},
   "outputs": [
    {
     "data": {
      "text/plain": [
       "<matplotlib.contour.QuadContourSet at 0x2addd2d2cef0>"
      ]
     },
     "execution_count": 62,
     "metadata": {},
     "output_type": "execute_result"
    },
    {
     "data": {
      "image/png": "[encoded data removed]",
      "text/plain": [
       "<matplotlib.figure.Figure at 0x2addd2cca550>"
      ]
     },
     "metadata": {},
     "output_type": "display_data"
    }
   ],
   "source": [
    "plt.contourf(d.variables[\"lon\"][:], d.variables[\"lat\"][:], d.variables[\"PRECC\"][25])"
   ]
  },
  {
   "cell_type": "code",
   "execution_count": 5,
   "metadata": {
    "collapsed": true
   },
   "outputs": [],
   "source": [
    "lats = d.variables[\"lat\"][:]\n",
    "lons = d.variables[\"lon\"][:]"
   ]
  },
  {
   "cell_type": "code",
   "execution_count": 6,
   "metadata": {},
   "outputs": [
    {
     "data": {
      "text/plain": [
       "(68, 95)"
      ]
     },
     "execution_count": 6,
     "metadata": {},
     "output_type": "execute_result"
    }
   ],
   "source": [
    "np.argmin(np.abs(dam_coords[0] - lats)), np.argmin(np.abs(dam_coords[1] + 360 - lons))\n",
    "\n"
   ]
  },
  {
   "cell_type": "code",
   "execution_count": 7,
   "metadata": {},
   "outputs": [],
   "source": [
    "all_dates = d.variables[\"date\"][:]"
   ]
  },
  {
   "cell_type": "code",
   "execution_count": 17,
   "metadata": {},
   "outputs": [],
   "source": [
    "all_dates_str = pd.Series(all_dates.astype(\"U8\"))\n",
    "all_days = all_dates_str.str[-2:].astype(int)\n",
    "all_months = all_dates_str.str[-4:-2].astype(int)\n",
    "all_years = all_dates_str.str[:-4].astype(int)"
   ]
  },
  {
   "cell_type": "code",
   "execution_count": 25,
   "metadata": {
    "collapsed": true
   },
   "outputs": [],
   "source": [
    "dec_years = all_years[:]\n",
    "dec_years[all_months == 12] += 1"
   ]
  },
  {
   "cell_type": "code",
   "execution_count": 26,
   "metadata": {},
   "outputs": [],
   "source": [
    "valid_months = np.where(np.in1d(all_months.values, [12, 1, 2]) & (dec_years > 850) & (dec_years < 1850))[0]"
   ]
  },
  {
   "cell_type": "code",
   "execution_count": 28,
   "metadata": {
    "collapsed": true
   },
   "outputs": [],
   "source": [
    "prec = d.variables[\"PRECT\"][valid_months, 68, 95]"
   ]
  },
  {
   "cell_type": "code",
   "execution_count": 29,
   "metadata": {},
   "outputs": [],
   "source": [
    "daily_precip = pd.DataFrame({\"month\": all_months[valid_months],\n",
    "                             \"year\": dec_years[valid_months],\n",
    "                             \"day\": all_days[valid_months],\n",
    "                             \"precip\": prec * 86400 * 1000}, columns=[\"year\", \"month\", \"day\", \"precip\"])"
   ]
  },
  {
   "cell_type": "code",
   "execution_count": null,
   "metadata": {},
   "outputs": [],
   "source": [
    "plt.figure(figsize=(20, 5))\n",
    "winter_precip = daily_precip.groupby([\"year\"])[\"precip\"].sum()\n",
    "(winter_precip / 25.4).plot()\n",
    "plt.xlabel(\"Year\", fontsize=12)\n",
    "plt.ylabel(\"DJF Rainfall\", fontsize=12)\n",
    "plt.title(\"NCAR LME Member 2 Oroville, CA DJF Rainfall\")"
   ]
  },
  {
   "cell_type": "code",
   "execution_count": 37,
   "metadata": {},
   "outputs": [
    {
     "data": {
      "text/plain": [
       "<matplotlib.axes._subplots.AxesSubplot at 0x2b998c033198>"
      ]
     },
     "execution_count": 37,
     "metadata": {},
     "output_type": "execute_result"
    },
    {
     "data": {
      "image/png": "[encoded data removed]",
      "text/plain": [
       "<matplotlib.figure.Figure at 0x2b998c10bba8>"
      ]
     },
     "metadata": {},
     "output_type": "display_data"
    }
   ],
   "source": [
    "winter_precip.hist()"
   ]
  },
  {
   "cell_type": "code",
   "execution_count": 56,
   "metadata": {},
   "outputs": [
    {
     "data": {
      "text/plain": [
       "[<matplotlib.lines.Line2D at 0x2addd15c6390>]"
      ]
     },
     "execution_count": 56,
     "metadata": {},
     "output_type": "execute_result"
    },
    {
     "data": {
      "image/png": "[encoded data removed]",
      "text/plain": [
       "<matplotlib.figure.Figure at 0x2addd13b12e8>"
      ]
     },
     "metadata": {},
     "output_type": "display_data"
    }
   ],
   "source": [
    "%matplotlib inline\n",
    "plt.figure(figsize=(10, 6))\n",
    "plt.plot(d[\"date\"][:], prec[:, 68, 95] * 86400 * 1000)"
   ]
  },
  {
   "cell_type": "code",
   "execution_count": 57,
   "metadata": {},
   "outputs": [
    {
     "data": {
      "text/plain": [
       "(array([  7.46000000e+03,   2.36600000e+03,   1.22300000e+03,\n",
       "          5.26000000e+02,   2.45000000e+02,   1.12000000e+02,\n",
       "          3.80000000e+01,   2.10000000e+01,   7.00000000e+00,\n",
       "          2.00000000e+00]),\n",
       " array([ 0.       ,  0.8452869,  1.6905738,  2.5358607,  3.3811476,\n",
       "         4.2264345,  5.0717214,  5.9170083,  6.7622952,  7.6075821,\n",
       "         8.452869 ]),\n",
       " <a list of 10 Patch objects>)"
      ]
     },
     "execution_count": 57,
     "metadata": {},
     "output_type": "execute_result"
    },
    {
     "data": {
      "image/png": "[encoded data removed]",
      "text/plain": [
       "<matplotlib.figure.Figure at 0x2addd13a6278>"
      ]
     },
     "metadata": {},
     "output_type": "display_data"
    }
   ],
   "source": [
    "plt.hist(prec[:, 68, 95] * 86400 * 1000)"
   ]
  },
  {
   "cell_type": "code",
   "execution_count": 48,
   "metadata": {},
   "outputs": [],
   "source": [
    "psl_file = join(lme_month_dir, \"PSL\", \"b.e11.BLMTRC5CN.f19_g16.002.cam.h0.PSL.085001-184912.nc\")\n",
    "ps_ds = Dataset(psl_file)"
   ]
  },
  {
   "cell_type": "code",
   "execution_count": null,
   "metadata": {},
   "outputs": [],
   "source": [
    "ps_dates = pd.Series(ps_ds.variables[\"date\"][:].astype(\"U8\"))\n",
    "ps_months = ps_dates.str[-4:-2]\n",
    "nov_months = np.where(ps_months == \"11\")[0]\n",
    "ps_fields = ps_ds.variables[\"PSL\"][nov_months]"
   ]
  },
  {
   "cell_type": "code",
   "execution_count": 54,
   "metadata": {},
   "outputs": [
    {
     "data": {
      "text/plain": [
       "0        02\n",
       "1        03\n",
       "2        04\n",
       "3        05\n",
       "4        06\n",
       "5        07\n",
       "6        08\n",
       "7        09\n",
       "8        10\n",
       "9        11\n",
       "10       12\n",
       "11       01\n",
       "12       02\n",
       "13       03\n",
       "14       04\n",
       "15       05\n",
       "16       06\n",
       "17       07\n",
       "18       08\n",
       "19       09\n",
       "20       10\n",
       "21       11\n",
       "22       12\n",
       "23       01\n",
       "24       02\n",
       "25       03\n",
       "26       04\n",
       "27       05\n",
       "28       06\n",
       "29       07\n",
       "         ..\n",
       "11970    08\n",
       "11971    09\n",
       "11972    10\n",
       "11973    11\n",
       "11974    12\n",
       "11975    01\n",
       "11976    02\n",
       "11977    03\n",
       "11978    04\n",
       "11979    05\n",
       "11980    06\n",
       "11981    07\n",
       "11982    08\n",
       "11983    09\n",
       "11984    10\n",
       "11985    11\n",
       "11986    12\n",
       "11987    01\n",
       "11988    02\n",
       "11989    03\n",
       "11990    04\n",
       "11991    05\n",
       "11992    06\n",
       "11993    07\n",
       "11994    08\n",
       "11995    09\n",
       "11996    10\n",
       "11997    11\n",
       "11998    12\n",
       "11999    01\n",
       "Length: 12000, dtype: object"
      ]
     },
     "execution_count": 54,
     "metadata": {},
     "output_type": "execute_result"
    }
   ],
   "source": []
  },
  {
   "cell_type": "code",
   "execution_count": null,
   "metadata": {
    "collapsed": true
   },
   "outputs": [],
   "source": []
  }
 ],
 "metadata": {
  "kernelspec": {
   "display_name": "Python 3",
   "language": "python",
   "name": "python3"
  },
  "language_info": {
   "codemirror_mode": {
    "name": "ipython",
    "version": 3
   },
   "file_extension": ".py",
   "mimetype": "text/x-python",
   "name": "python",
   "nbconvert_exporter": "python",
   "pygments_lexer": "ipython3",
   "version": "3.5.3"
  }
 },
 "nbformat": 4,
 "nbformat_minor": 2
}
